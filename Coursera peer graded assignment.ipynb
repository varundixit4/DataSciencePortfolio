{
 "cells": [
  {
   "cell_type": "markdown",
   "id": "beb61f06",
   "metadata": {},
   "source": [
    "# My Jupyter Notebook on IBM Watson Studio"
   ]
  },
  {
   "cell_type": "markdown",
   "id": "da5538e4",
   "metadata": {},
   "source": [
    "### Varun Dixit\n",
    "College Student"
   ]
  },
  {
   "cell_type": "markdown",
   "id": "4c97d2e4",
   "metadata": {},
   "source": [
    "<i> I am interested in data science because I love Graphs and I think it's SUPER COOL!<i>"
   ]
  },
  {
   "cell_type": "markdown",
   "id": "5ff82c68",
   "metadata": {},
   "source": [
    "### The following code displays prime numbers from 1 to 50"
   ]
  },
  {
   "cell_type": "code",
   "execution_count": 6,
   "id": "4149c340",
   "metadata": {},
   "outputs": [
    {
     "name": "stdout",
     "output_type": "stream",
     "text": [
      "2 3 5 7 11 13 17 19 23 29 31 37 41 43 47 "
     ]
    }
   ],
   "source": [
    "for num in range(1, 50):\n",
    "    if num > 1:\n",
    "        for i in range(2, num):\n",
    "            if (num % i) == 0:\n",
    "                break\n",
    "        else:\n",
    "            print(num, end=\" \")        "
   ]
  },
  {
   "cell_type": "markdown",
   "id": "dad9c0fb",
   "metadata": {},
   "source": [
    "- Apple\n",
    "- Banana\n",
    "- Orange\n",
    "- Strawberry\n",
    "\n",
    "> This is a Blocked Quote\n",
    "\n",
    "This is a hyperlink to [Coursera](https://www.coursera.org/)"
   ]
  },
  {
   "cell_type": "code",
   "execution_count": null,
   "id": "efa4f1fc",
   "metadata": {},
   "outputs": [],
   "source": []
  }
 ],
 "metadata": {
  "kernelspec": {
   "display_name": "Python 3",
   "language": "python",
   "name": "python3"
  },
  "language_info": {
   "codemirror_mode": {
    "name": "ipython",
    "version": 3
   },
   "file_extension": ".py",
   "mimetype": "text/x-python",
   "name": "python",
   "nbconvert_exporter": "python",
   "pygments_lexer": "ipython3",
   "version": "3.8.8"
  }
 },
 "nbformat": 4,
 "nbformat_minor": 5
}
